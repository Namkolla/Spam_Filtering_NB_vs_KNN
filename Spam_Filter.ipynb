{
 "cells": [
  {
   "cell_type": "markdown",
   "metadata": {},
   "source": [
    "## Download mail data"
   ]
  },
  {
   "cell_type": "code",
   "execution_count": 2,
   "metadata": {
    "collapsed": true
   },
   "outputs": [],
   "source": [
    "%matplotlib inline\n",
    "import email, getpass, imaplib, os\n",
    "import pandas as pd\n",
    "import smtplib\n",
    "from email.mime.text import MIMEText"
   ]
  },
  {
   "cell_type": "code",
   "execution_count": 3,
   "metadata": {
    "collapsed": true
   },
   "outputs": [],
   "source": [
    "all_emails = []"
   ]
  },
  {
   "cell_type": "code",
   "execution_count": 4,
   "metadata": {},
   "outputs": [
    {
     "name": "stdout",
     "output_type": "stream",
     "text": [
      "Enter your GMail username:nam.kolla\n",
      "Enter your password: ········\n"
     ]
    }
   ],
   "source": [
    "# Takes ~30 seconds to run\n",
    "\n",
    "detach_dir = '.' # directory where to save attachments (default: current)\n",
    "user = raw_input(\"Enter your GMail username:\")\n",
    "pwd = getpass.getpass(\"Enter your password: \")\n",
    "\n",
    "# connecting to the gmail imap server\n",
    "m = imaplib.IMAP4_SSL(\"imap.gmail.com\")\n",
    "m.login(user,pwd)\n",
    "m.select(\"[Gmail]/Spam\") # here you a can choose a mail box like INBOX instead\n",
    "# use m.list() to get all the mailboxes\n",
    "\n",
    "resp, items = m.search(None, \"ALL\") # you could filter using the IMAP rules here (check http://www.example-code.com/csharp/imap-search-critera.asp)\n",
    "items = items[0].split() # getting the mails id\n",
    "\n",
    "for emailid in items:\n",
    "    resp, data = m.fetch(emailid, \"(RFC822)\") # fetching the mail, \"`(RFC822)`\" means \"get the whole stuff\", but you can ask for headers only, etc\n",
    "    # Alternatives to RFC822: https://books.google.com/books?id=lDS_DgAAQBAJ&pg=PT255&lpg=PT255&dq=RFC822+header+only&source=bl&ots=woHx-uu7B3&sig=hSKWo7eRCidc652sCeGfFQdGtCo&hl=en&sa=X&ved=0ahUKEwiPqZvGoJrZAhWM7oMKHVxzAmkQ6AEIPDAD#v=onepage&q=RFC822%20header%20only&f=false\n",
    "    \n",
    "    for response_part in data:\n",
    "        if isinstance(response_part, tuple):\n",
    "            msg = email.message_from_string(response_part[1])\n",
    "            email_subject = msg['subject']\n",
    "            email_from = msg['from']\n",
    "#             if msg.is_multipart():\n",
    "#                 for payload in msg.get_payload():\n",
    "#                     print(payload.get_payload())\n",
    "#             else:\n",
    "#                 print(msg.get_payload())\n",
    "            all_emails.append([email_subject, 'spam'])\n",
    "    \n",
    "#     email_body = data[0][1] # getting the mail content\n",
    "#     #Check if its already there\n",
    "#     att_path = \"spam\" + emailid + \".txt\"\n",
    "#     if not os.path.isfile(att_path) :\n",
    "#         # finally write the stuff\n",
    "#         fp = open(att_path, 'wb')\n",
    "#         fp.write(email_body)\n",
    "#         fp.close()"
   ]
  },
  {
   "cell_type": "code",
   "execution_count": 5,
   "metadata": {},
   "outputs": [
    {
     "name": "stdout",
     "output_type": "stream",
     "text": [
      "Enter your GMail username:nam.kolla\n",
      "Enter your password: ········\n"
     ]
    }
   ],
   "source": [
    "# Takes ~5 minutes to run\n",
    "\n",
    "detach_dir = '.' # directory where to save attachments (default: current)\n",
    "user = raw_input(\"Enter your GMail username:\")\n",
    "pwd = getpass.getpass(\"Enter your password: \")\n",
    "\n",
    "# connecting to the gmail imap server\n",
    "m = imaplib.IMAP4_SSL(\"imap.gmail.com\")\n",
    "m.login(user,pwd)\n",
    "m.select(\"INFX\") # here you a can choose a mail box like INBOX instead\n",
    "# use m.list() to get all the mailboxes\n",
    "resp, items = m.search(None,\"All\") # you could filter using the IMAP rules here (check http://www.example-code.com/csharp/imap-search-critera.asp)\n",
    "items = items[0].split() # getting the mails id\n",
    "\n",
    "for emailid in items:\n",
    "    resp, data = m.fetch(emailid, \"(RFC822)\") # fetching the mail, \"`(RFC822)`\" means \"get the whole stuff\", but you can ask for headers only, etc\n",
    "    \n",
    "    for response_part in data:\n",
    "        if isinstance(response_part, tuple):\n",
    "            msg = email.message_from_string(response_part[1])\n",
    "            email_subject = msg['subject']\n",
    "            email_from = msg['from']\n",
    "#             if msg.is_multipart():\n",
    "#                 for payload in msg.get_payload():\n",
    "#                     print(payload.get_payload())\n",
    "#             else:\n",
    "#                 print(msg.get_payload())\n",
    "            all_emails.append([email_subject, 'not_spam'])"
   ]
  },
  {
   "cell_type": "markdown",
   "metadata": {},
   "source": [
    "## Scrape txt files for messages and create one dataframe"
   ]
  },
  {
   "cell_type": "code",
   "execution_count": 6,
   "metadata": {},
   "outputs": [
    {
     "data": {
      "text/plain": [
       "762"
      ]
     },
     "execution_count": 6,
     "metadata": {},
     "output_type": "execute_result"
    }
   ],
   "source": [
    "# Confirm text of all emails were downloaded\n",
    "len(all_emails)"
   ]
  },
  {
   "cell_type": "code",
   "execution_count": 7,
   "metadata": {
    "collapsed": true
   },
   "outputs": [],
   "source": [
    "all_emails = pd.DataFrame(all_emails, columns = ['message','label'])"
   ]
  },
  {
   "cell_type": "code",
   "execution_count": 8,
   "metadata": {},
   "outputs": [
    {
     "data": {
      "text/html": [
       "<div>\n",
       "<table border=\"1\" class=\"dataframe\">\n",
       "  <thead>\n",
       "    <tr style=\"text-align: right;\">\n",
       "      <th></th>\n",
       "      <th></th>\n",
       "      <th>message</th>\n",
       "    </tr>\n",
       "    <tr>\n",
       "      <th>label</th>\n",
       "      <th></th>\n",
       "      <th></th>\n",
       "    </tr>\n",
       "  </thead>\n",
       "  <tbody>\n",
       "    <tr>\n",
       "      <th rowspan=\"4\" valign=\"top\">not_spam</th>\n",
       "      <th>count</th>\n",
       "      <td>673</td>\n",
       "    </tr>\n",
       "    <tr>\n",
       "      <th>unique</th>\n",
       "      <td>329</td>\n",
       "    </tr>\n",
       "    <tr>\n",
       "      <th>top</th>\n",
       "      <td>Re: Carbon Panel Updates</td>\n",
       "    </tr>\n",
       "    <tr>\n",
       "      <th>freq</th>\n",
       "      <td>44</td>\n",
       "    </tr>\n",
       "    <tr>\n",
       "      <th rowspan=\"4\" valign=\"top\">spam</th>\n",
       "      <th>count</th>\n",
       "      <td>89</td>\n",
       "    </tr>\n",
       "    <tr>\n",
       "      <th>unique</th>\n",
       "      <td>67</td>\n",
       "    </tr>\n",
       "    <tr>\n",
       "      <th>top</th>\n",
       "      <td>Product of the day</td>\n",
       "    </tr>\n",
       "    <tr>\n",
       "      <th>freq</th>\n",
       "      <td>7</td>\n",
       "    </tr>\n",
       "  </tbody>\n",
       "</table>\n",
       "</div>"
      ],
      "text/plain": [
       "                                  message\n",
       "label                                    \n",
       "not_spam count                        673\n",
       "         unique                       329\n",
       "         top     Re: Carbon Panel Updates\n",
       "         freq                          44\n",
       "spam     count                         89\n",
       "         unique                        67\n",
       "         top           Product of the day\n",
       "         freq                           7"
      ]
     },
     "execution_count": 8,
     "metadata": {},
     "output_type": "execute_result"
    }
   ],
   "source": [
    "all_emails.groupby('label').describe()"
   ]
  },
  {
   "cell_type": "markdown",
   "metadata": {},
   "source": [
    "Observations: \n",
    "* Many more spam than not-spam email\n",
    "* More of the spam headers are unique than not-spam\n",
    "* Not-spam email have a higher likelihood of being repetitive"
   ]
  },
  {
   "cell_type": "markdown",
   "metadata": {},
   "source": [
    "## Look around, add new variable length"
   ]
  },
  {
   "cell_type": "code",
   "execution_count": 9,
   "metadata": {},
   "outputs": [
    {
     "name": "stdout",
     "output_type": "stream",
     "text": [
      "                                             message label  length\n",
      "0                Aced a class? Get paid for your A's  spam      35\n",
      "1  =?utf-8?Q?Bat=27s=20echolocation=20could=20ins...  spam     113\n",
      "2  Become a Leader in the Library and Info Scienc...  spam      53\n",
      "3             Advance Your Career with an Online MBA  spam      38\n",
      "4  =?UTF-8?Q?Romantic_Gifts_=E2=9D=A4_For_your_Va...  spam      71\n"
     ]
    }
   ],
   "source": [
    "all_emails['length'] = all_emails['message'].map(lambda text: len(text))\n",
    "print(all_emails.head())"
   ]
  },
  {
   "cell_type": "code",
   "execution_count": 10,
   "metadata": {
    "collapsed": true
   },
   "outputs": [],
   "source": [
    "import matplotlib.pyplot as plt"
   ]
  },
  {
   "cell_type": "code",
   "execution_count": 11,
   "metadata": {},
   "outputs": [
    {
     "data": {
      "text/plain": [
       "(0, 250)"
      ]
     },
     "execution_count": 11,
     "metadata": {},
     "output_type": "execute_result"
    },
    {
     "data": {
      "image/png": "[encoded data removed]",
      "text/plain": [
       "<matplotlib.figure.Figure at 0x10c4781d0>"
      ]
     },
     "metadata": {},
     "output_type": "display_data"
    }
   ],
   "source": [
    "all_emails.hist(column='length', by='label', bins=10)\n",
    "plt.xlim((0,250))"
   ]
  },
  {
   "cell_type": "markdown",
   "metadata": {},
   "source": [
    "## Data pre-processing, bag-of-words approach"
   ]
  },
  {
   "cell_type": "code",
   "execution_count": 12,
   "metadata": {
    "collapsed": true
   },
   "outputs": [],
   "source": [
    "from textblob import TextBlob"
   ]
  },
  {
   "cell_type": "code",
   "execution_count": 13,
   "metadata": {
    "collapsed": true
   },
   "outputs": [],
   "source": [
    "def split_into_tokens(message):\n",
    "    message = unicode(message, 'utf8')  # convert bytes into proper unicode\n",
    "    return TextBlob(message).words\n",
    "\n",
    "def split_into_lemmas(message):\n",
    "    message = unicode(message, 'utf8').lower()\n",
    "    words = TextBlob(message).words\n",
    "    # for each word, take its \"base form\" = lemma \n",
    "    return [word.lemma for word in words]"
   ]
  },
  {
   "cell_type": "code",
   "execution_count": 14,
   "metadata": {},
   "outputs": [
    {
     "data": {
      "text/plain": [
       "0        [Aced, a, class, Get, paid, for, your, A, 's]\n",
       "1    [utf-8, Q, Bat=27s=20echolocation=20could=20in...\n",
       "2    [Become, a, Leader, in, the, Library, and, Inf...\n",
       "3       [Advance, Your, Career, with, an, Online, MBA]\n",
       "4    [UTF-8, Q, Romantic_Gifts_=E2=9D=A4_For_your_V...\n",
       "Name: message, dtype: object"
      ]
     },
     "execution_count": 14,
     "metadata": {},
     "output_type": "execute_result"
    }
   ],
   "source": [
    "all_emails.message.head().apply(split_into_tokens)"
   ]
  },
  {
   "cell_type": "code",
   "execution_count": 15,
   "metadata": {},
   "outputs": [
    {
     "data": {
      "text/plain": [
       "0        [aced, a, class, get, paid, for, your, a, 's]\n",
       "1    [utf-8, q, bat=27s=20echolocation=20could=20in...\n",
       "2    [become, a, leader, in, the, library, and, inf...\n",
       "3       [advance, your, career, with, an, online, mba]\n",
       "4    [utf-8, q, romantic_gifts_=e2=9d=a4_for_your_v...\n",
       "Name: message, dtype: object"
      ]
     },
     "execution_count": 15,
     "metadata": {},
     "output_type": "execute_result"
    }
   ],
   "source": [
    "all_emails.message.head().apply(split_into_lemmas)"
   ]
  },
  {
   "cell_type": "markdown",
   "metadata": {},
   "source": [
    "## Splitting data for training and testing"
   ]
  },
  {
   "cell_type": "code",
   "execution_count": 16,
   "metadata": {
    "collapsed": true
   },
   "outputs": [],
   "source": [
    "import random\n",
    "import numpy as np\n",
    "\n",
    "import sklearn \n",
    "import cPickle\n",
    "\n",
    "from sklearn.feature_extraction.text import CountVectorizer, TfidfTransformer\n",
    "from sklearn.naive_bayes import MultinomialNB\n",
    "from sklearn.svm import SVC, LinearSVC\n",
    "from sklearn.metrics import classification_report, f1_score, accuracy_score, confusion_matrix\n",
    "from sklearn.pipeline import Pipeline\n",
    "from sklearn.grid_search import GridSearchCV\n",
    "from sklearn.cross_validation import StratifiedKFold, cross_val_score, train_test_split \n",
    "from sklearn.tree import DecisionTreeClassifier \n",
    "from sklearn.learning_curve import learning_curve"
   ]
  },
  {
   "cell_type": "code",
   "execution_count": 17,
   "metadata": {
    "collapsed": true
   },
   "outputs": [],
   "source": [
    "np.random.seed(seed=900)\n",
    "all_emails['rand'] = all_emails.apply(lambda row: random.random(), axis=1)\n",
    "    # put 66% of data in training; 33% in testing\n",
    "all_emails['train'] = all_emails['rand']>.33"
   ]
  },
  {
   "cell_type": "code",
   "execution_count": 18,
   "metadata": {
    "collapsed": true
   },
   "outputs": [],
   "source": [
    "emails_train = all_emails[all_emails['train']==True]\n",
    "emails_test = all_emails[all_emails['train']==False]"
   ]
  },
  {
   "cell_type": "code",
   "execution_count": 19,
   "metadata": {
    "collapsed": true
   },
   "outputs": [],
   "source": [
    "emails_train = emails_train.reset_index(drop=True)"
   ]
  },
  {
   "cell_type": "code",
   "execution_count": 20,
   "metadata": {
    "collapsed": true
   },
   "outputs": [],
   "source": [
    "emails_test = emails_test.reset_index(drop=True)"
   ]
  },
  {
   "cell_type": "code",
   "execution_count": 21,
   "metadata": {},
   "outputs": [
    {
     "name": "stdout",
     "output_type": "stream",
     "text": [
      "495\n",
      "267\n"
     ]
    }
   ],
   "source": [
    "print(len(emails_train))\n",
    "print(len(emails_test))"
   ]
  },
  {
   "cell_type": "code",
   "execution_count": 22,
   "metadata": {},
   "outputs": [
    {
     "data": {
      "text/html": [
       "<div>\n",
       "<table border=\"1\" class=\"dataframe\">\n",
       "  <thead>\n",
       "    <tr style=\"text-align: right;\">\n",
       "      <th></th>\n",
       "      <th>length</th>\n",
       "      <th>rand</th>\n",
       "    </tr>\n",
       "  </thead>\n",
       "  <tbody>\n",
       "    <tr>\n",
       "      <th>count</th>\n",
       "      <td>267.000000</td>\n",
       "      <td>267.000000</td>\n",
       "    </tr>\n",
       "    <tr>\n",
       "      <th>mean</th>\n",
       "      <td>41.378277</td>\n",
       "      <td>0.164002</td>\n",
       "    </tr>\n",
       "    <tr>\n",
       "      <th>std</th>\n",
       "      <td>26.577790</td>\n",
       "      <td>0.093705</td>\n",
       "    </tr>\n",
       "    <tr>\n",
       "      <th>min</th>\n",
       "      <td>0.000000</td>\n",
       "      <td>0.000815</td>\n",
       "    </tr>\n",
       "    <tr>\n",
       "      <th>25%</th>\n",
       "      <td>24.000000</td>\n",
       "      <td>0.085073</td>\n",
       "    </tr>\n",
       "    <tr>\n",
       "      <th>50%</th>\n",
       "      <td>35.000000</td>\n",
       "      <td>0.168597</td>\n",
       "    </tr>\n",
       "    <tr>\n",
       "      <th>75%</th>\n",
       "      <td>56.000000</td>\n",
       "      <td>0.243742</td>\n",
       "    </tr>\n",
       "    <tr>\n",
       "      <th>max</th>\n",
       "      <td>214.000000</td>\n",
       "      <td>0.326796</td>\n",
       "    </tr>\n",
       "  </tbody>\n",
       "</table>\n",
       "</div>"
      ],
      "text/plain": [
       "           length        rand\n",
       "count  267.000000  267.000000\n",
       "mean    41.378277    0.164002\n",
       "std     26.577790    0.093705\n",
       "min      0.000000    0.000815\n",
       "25%     24.000000    0.085073\n",
       "50%     35.000000    0.168597\n",
       "75%     56.000000    0.243742\n",
       "max    214.000000    0.326796"
      ]
     },
     "execution_count": 22,
     "metadata": {},
     "output_type": "execute_result"
    }
   ],
   "source": [
    "emails_train.describe()\n",
    "emails_test.describe()"
   ]
  },
  {
   "cell_type": "code",
   "execution_count": 23,
   "metadata": {
    "collapsed": true
   },
   "outputs": [],
   "source": [
    "pipeline = Pipeline([\n",
    "    ('bow', CountVectorizer(analyzer=split_into_lemmas)),  # strings to token integer counts\n",
    "    ('tfidf', TfidfTransformer()),  # integer counts to weighted TF-IDF scores\n",
    "    ('classifier', MultinomialNB()),  # train on TF-IDF vectors w/ Naive Bayes classifier\n",
    "])"
   ]
  },
  {
   "cell_type": "code",
   "execution_count": 24,
   "metadata": {},
   "outputs": [
    {
     "data": {
      "text/html": [
       "<div>\n",
       "<table border=\"1\" class=\"dataframe\">\n",
       "  <thead>\n",
       "    <tr style=\"text-align: right;\">\n",
       "      <th></th>\n",
       "      <th>message</th>\n",
       "      <th>label</th>\n",
       "      <th>length</th>\n",
       "      <th>rand</th>\n",
       "      <th>train</th>\n",
       "    </tr>\n",
       "  </thead>\n",
       "  <tbody>\n",
       "    <tr>\n",
       "      <th>0</th>\n",
       "      <td>=?utf-8?Q?Bat=27s=20echolocation=20could=20ins...</td>\n",
       "      <td>spam</td>\n",
       "      <td>113</td>\n",
       "      <td>0.878763</td>\n",
       "      <td>True</td>\n",
       "    </tr>\n",
       "    <tr>\n",
       "      <th>1</th>\n",
       "      <td>Become a Leader in the Library and Info Scienc...</td>\n",
       "      <td>spam</td>\n",
       "      <td>53</td>\n",
       "      <td>0.880546</td>\n",
       "      <td>True</td>\n",
       "    </tr>\n",
       "    <tr>\n",
       "      <th>2</th>\n",
       "      <td>Advance Your Career with an Online MBA</td>\n",
       "      <td>spam</td>\n",
       "      <td>38</td>\n",
       "      <td>0.582425</td>\n",
       "      <td>True</td>\n",
       "    </tr>\n",
       "    <tr>\n",
       "      <th>3</th>\n",
       "      <td>How did they do it? Meet the Innovation winner...</td>\n",
       "      <td>spam</td>\n",
       "      <td>56</td>\n",
       "      <td>0.696711</td>\n",
       "      <td>True</td>\n",
       "    </tr>\n",
       "    <tr>\n",
       "      <th>4</th>\n",
       "      <td></td>\n",
       "      <td>spam</td>\n",
       "      <td>0</td>\n",
       "      <td>0.849265</td>\n",
       "      <td>True</td>\n",
       "    </tr>\n",
       "  </tbody>\n",
       "</table>\n",
       "</div>"
      ],
      "text/plain": [
       "                                             message label  length      rand  \\\n",
       "0  =?utf-8?Q?Bat=27s=20echolocation=20could=20ins...  spam     113  0.878763   \n",
       "1  Become a Leader in the Library and Info Scienc...  spam      53  0.880546   \n",
       "2             Advance Your Career with an Online MBA  spam      38  0.582425   \n",
       "3  How did they do it? Meet the Innovation winner...  spam      56  0.696711   \n",
       "4                                                     spam       0  0.849265   \n",
       "\n",
       "  train  \n",
       "0  True  \n",
       "1  True  \n",
       "2  True  \n",
       "3  True  \n",
       "4  True  "
      ]
     },
     "execution_count": 24,
     "metadata": {},
     "output_type": "execute_result"
    }
   ],
   "source": [
    "emails_train.head()"
   ]
  },
  {
   "cell_type": "markdown",
   "metadata": {},
   "source": [
    "## Naive-Bayes\n",
    "\n",
    "Algorithm info: http://ats.cs.ut.ee/u/kt/hw/spam/spam.pdf"
   ]
  },
  {
   "cell_type": "markdown",
   "metadata": {},
   "source": [
    "### Data to vectors"
   ]
  },
  {
   "cell_type": "code",
   "execution_count": 25,
   "metadata": {
    "collapsed": true
   },
   "outputs": [],
   "source": [
    "bow_transformer = CountVectorizer(analyzer=split_into_lemmas).fit(emails_train['message'])"
   ]
  },
  {
   "cell_type": "code",
   "execution_count": 26,
   "metadata": {},
   "outputs": [
    {
     "name": "stdout",
     "output_type": "stream",
     "text": [
      "629\n"
     ]
    }
   ],
   "source": [
    "print len(bow_transformer.vocabulary_)"
   ]
  },
  {
   "cell_type": "code",
   "execution_count": 27,
   "metadata": {
    "collapsed": true
   },
   "outputs": [],
   "source": [
    "messages_bow_tr = bow_transformer.transform(emails_train['message'])\n",
    "tfidf_transformer_tr = TfidfTransformer().fit(messages_bow_tr)\n",
    "messages_tfidf_tr = tfidf_transformer_tr.transform(messages_bow_tr)"
   ]
  },
  {
   "cell_type": "code",
   "execution_count": 28,
   "metadata": {},
   "outputs": [
    {
     "data": {
      "text/plain": [
       "(495, 629)"
      ]
     },
     "execution_count": 28,
     "metadata": {},
     "output_type": "execute_result"
    }
   ],
   "source": [
    "messages_tfidf_tr.shape"
   ]
  },
  {
   "cell_type": "code",
   "execution_count": 29,
   "metadata": {
    "collapsed": true
   },
   "outputs": [],
   "source": [
    "#lab_rshp = np.reshape(emails_train['label'],(len(emails_train['label']),1))"
   ]
  },
  {
   "cell_type": "markdown",
   "metadata": {},
   "source": [
    "### Train model"
   ]
  },
  {
   "cell_type": "code",
   "execution_count": 30,
   "metadata": {
    "collapsed": true
   },
   "outputs": [],
   "source": [
    "from scipy import sparse\n",
    "from sklearn.metrics import roc_curve, auc, roc_auc_score"
   ]
  },
  {
   "cell_type": "code",
   "execution_count": 31,
   "metadata": {},
   "outputs": [
    {
     "name": "stdout",
     "output_type": "stream",
     "text": [
      "CPU times: user 4.59 ms, sys: 1.81 ms, total: 6.41 ms\n",
      "Wall time: 5.9 ms\n"
     ]
    }
   ],
   "source": [
    "%time spam_detector = MultinomialNB().fit(messages_tfidf_tr,emails_train['label'])\n",
    "# %time spam_detector = MultinomialNB().fit([messages_tfidf_tr,sparse.csc_matrix(emails_train['length'])],lab_rshp)"
   ]
  },
  {
   "cell_type": "code",
   "execution_count": 32,
   "metadata": {},
   "outputs": [
    {
     "data": {
      "text/plain": [
       "<495x629 sparse matrix of type '<type 'numpy.float64'>'\n",
       "\twith 2951 stored elements in Compressed Sparse Row format>"
      ]
     },
     "execution_count": 32,
     "metadata": {},
     "output_type": "execute_result"
    }
   ],
   "source": [
    "messages_tfidf_tr"
   ]
  },
  {
   "cell_type": "code",
   "execution_count": 33,
   "metadata": {},
   "outputs": [
    {
     "name": "stdout",
     "output_type": "stream",
     "text": [
      "predicted: spam\n",
      "expected: spam\n"
     ]
    }
   ],
   "source": [
    "print 'predicted:', spam_detector.predict(messages_tfidf_tr)[30]\n",
    "print 'expected:', emails_train.label[30]"
   ]
  },
  {
   "cell_type": "code",
   "execution_count": 34,
   "metadata": {},
   "outputs": [
    {
     "name": "stdout",
     "output_type": "stream",
     "text": [
      "['not_spam' 'not_spam' 'spam' 'spam' 'not_spam' 'not_spam' 'spam'\n",
      " 'not_spam' 'spam' 'not_spam']\n"
     ]
    }
   ],
   "source": [
    "print(spam_detector.predict(messages_tfidf_tr)[:10])"
   ]
  },
  {
   "cell_type": "code",
   "execution_count": 35,
   "metadata": {},
   "outputs": [
    {
     "data": {
      "text/plain": [
       "0    spam\n",
       "1    spam\n",
       "2    spam\n",
       "3    spam\n",
       "4    spam\n",
       "5    spam\n",
       "6    spam\n",
       "7    spam\n",
       "8    spam\n",
       "9    spam\n",
       "Name: label, dtype: object"
      ]
     },
     "execution_count": 35,
     "metadata": {},
     "output_type": "execute_result"
    }
   ],
   "source": [
    "emails_train.label[:10]"
   ]
  },
  {
   "cell_type": "code",
   "execution_count": 36,
   "metadata": {
    "collapsed": true
   },
   "outputs": [],
   "source": [
    "trained_predictions = spam_detector.predict(messages_tfidf_tr)"
   ]
  },
  {
   "cell_type": "code",
   "execution_count": 37,
   "metadata": {},
   "outputs": [
    {
     "name": "stdout",
     "output_type": "stream",
     "text": [
      "accuracy 0.939393939394\n",
      "confusion matrix\n",
      "[[436   1]\n",
      " [ 29  29]]\n",
      "(row=expected, col=predicted)\n"
     ]
    }
   ],
   "source": [
    "print 'accuracy', accuracy_score(emails_train['label'], trained_predictions)\n",
    "print 'confusion matrix\\n', confusion_matrix(emails_train['label'], trained_predictions)\n",
    "print '(row=expected, col=predicted)'"
   ]
  },
  {
   "cell_type": "code",
   "execution_count": 38,
   "metadata": {},
   "outputs": [
    {
     "data": {
      "text/plain": [
       "<matplotlib.text.Text at 0x109c41690>"
      ]
     },
     "execution_count": 38,
     "metadata": {},
     "output_type": "execute_result"
    },
    {
     "data": {
      "image/png": "[encoded data removed]",
      "text/plain": [
       "<matplotlib.figure.Figure at 0x109d10c90>"
      ]
     },
     "metadata": {},
     "output_type": "display_data"
    }
   ],
   "source": [
    "plt.matshow(confusion_matrix(emails_train['label'], trained_predictions), cmap=plt.cm.binary, interpolation='nearest')\n",
    "plt.title('confusion matrix')\n",
    "plt.colorbar()\n",
    "plt.ylabel('expected label')\n",
    "plt.xlabel('predicted label')"
   ]
  },
  {
   "cell_type": "code",
   "execution_count": 39,
   "metadata": {},
   "outputs": [
    {
     "name": "stdout",
     "output_type": "stream",
     "text": [
      "             precision    recall  f1-score   support\n",
      "\n",
      "   not_spam       0.94      1.00      0.97       437\n",
      "       spam       0.97      0.50      0.66        58\n",
      "\n",
      "avg / total       0.94      0.94      0.93       495\n",
      "\n"
     ]
    }
   ],
   "source": [
    "print classification_report(emails_train['label'], trained_predictions)"
   ]
  },
  {
   "cell_type": "markdown",
   "metadata": {},
   "source": [
    "### Test model"
   ]
  },
  {
   "cell_type": "code",
   "execution_count": 40,
   "metadata": {
    "collapsed": true
   },
   "outputs": [],
   "source": [
    "bow_transformer_te = CountVectorizer(analyzer=split_into_lemmas).fit(emails_test['message'])"
   ]
  },
  {
   "cell_type": "code",
   "execution_count": 55,
   "metadata": {
    "collapsed": true
   },
   "outputs": [],
   "source": [
    "messages_bow_te = bow_transformer.transform(emails_test['message'])\n",
    "tfidf_transformer_te = TfidfTransformer().fit(messages_bow_te)\n",
    "messages_tfidf_te = tfidf_transformer_te.transform(messages_bow_te)"
   ]
  },
  {
   "cell_type": "code",
   "execution_count": 56,
   "metadata": {},
   "outputs": [],
   "source": [
    "test_predictions = spam_detector.predict(messages_tfidf_te)"
   ]
  },
  {
   "cell_type": "code",
   "execution_count": 57,
   "metadata": {},
   "outputs": [
    {
     "name": "stdout",
     "output_type": "stream",
     "text": [
      "(267, 629)\n",
      "(495, 629)\n"
     ]
    }
   ],
   "source": [
    "# DEBUGGING OTHER CODE: \n",
    "\n",
    "print(messages_tfidf_te.shape)\n",
    "print(messages_tfidf_tr.shape)"
   ]
  },
  {
   "cell_type": "code",
   "execution_count": 43,
   "metadata": {},
   "outputs": [
    {
     "name": "stdout",
     "output_type": "stream",
     "text": [
      "accuracy 0.921348314607\n",
      "confusion matrix\n",
      "[[236   0]\n",
      " [ 21  10]]\n",
      "(row=expected, col=predicted)\n"
     ]
    }
   ],
   "source": [
    "print 'accuracy', accuracy_score(emails_test['label'], test_predictions)\n",
    "print 'confusion matrix\\n', confusion_matrix(emails_test['label'], test_predictions)\n",
    "print '(row=expected, col=predicted)'"
   ]
  },
  {
   "cell_type": "code",
   "execution_count": 44,
   "metadata": {},
   "outputs": [
    {
     "data": {
      "text/plain": [
       "<matplotlib.text.Text at 0x117b67450>"
      ]
     },
     "execution_count": 44,
     "metadata": {},
     "output_type": "execute_result"
    },
    {
     "data": {
      "image/png": "[encoded data removed]",
      "text/plain": [
       "<matplotlib.figure.Figure at 0x109d1c410>"
      ]
     },
     "metadata": {},
     "output_type": "display_data"
    }
   ],
   "source": [
    "plt.matshow(confusion_matrix(emails_test['label'], test_predictions), cmap=plt.cm.binary, interpolation='nearest')\n",
    "plt.title('confusion matrix')\n",
    "plt.colorbar()\n",
    "plt.ylabel('expected label')\n",
    "plt.xlabel('predicted label')"
   ]
  },
  {
   "cell_type": "code",
   "execution_count": 45,
   "metadata": {},
   "outputs": [
    {
     "name": "stdout",
     "output_type": "stream",
     "text": [
      "             precision    recall  f1-score   support\n",
      "\n",
      "   not_spam       0.92      1.00      0.96       236\n",
      "       spam       1.00      0.32      0.49        31\n",
      "\n",
      "avg / total       0.93      0.92      0.90       267\n",
      "\n"
     ]
    }
   ],
   "source": [
    "print classification_report(emails_test['label'], test_predictions)"
   ]
  },
  {
   "cell_type": "markdown",
   "metadata": {},
   "source": [
    "## kNN \n",
    "\n",
    "Algorithm info: http://ats.cs.ut.ee/u/kt/hw/spam/spam.pdf"
   ]
  },
  {
   "cell_type": "markdown",
   "metadata": {},
   "source": [
    "### Train model"
   ]
  },
  {
   "cell_type": "code",
   "execution_count": 80,
   "metadata": {
    "collapsed": true
   },
   "outputs": [],
   "source": [
    "from sklearn.neighbors import KNeighborsClassifier"
   ]
  },
  {
   "cell_type": "code",
   "execution_count": 81,
   "metadata": {
    "collapsed": true
   },
   "outputs": [],
   "source": [
    "neigh = KNeighborsClassifier(n_neighbors=3)"
   ]
  },
  {
   "cell_type": "code",
   "execution_count": 82,
   "metadata": {},
   "outputs": [
    {
     "data": {
      "text/plain": [
       "KNeighborsClassifier(algorithm='auto', leaf_size=30, metric='minkowski',\n",
       "           metric_params=None, n_jobs=1, n_neighbors=3, p=2,\n",
       "           weights='uniform')"
      ]
     },
     "execution_count": 82,
     "metadata": {},
     "output_type": "execute_result"
    }
   ],
   "source": [
    "neigh.fit(messages_tfidf_tr,emails_train['label'])"
   ]
  },
  {
   "cell_type": "code",
   "execution_count": 83,
   "metadata": {},
   "outputs": [
    {
     "name": "stdout",
     "output_type": "stream",
     "text": [
      "predicted: spam\n",
      "expected: spam\n"
     ]
    }
   ],
   "source": [
    "print 'predicted:', neigh.predict(messages_tfidf_tr)[41]\n",
    "print 'expected:', emails_train.label[41]"
   ]
  },
  {
   "cell_type": "code",
   "execution_count": 84,
   "metadata": {
    "collapsed": true
   },
   "outputs": [],
   "source": [
    "knn_trained_predictions = neigh.predict(messages_tfidf_tr)"
   ]
  },
  {
   "cell_type": "code",
   "execution_count": 85,
   "metadata": {},
   "outputs": [
    {
     "name": "stdout",
     "output_type": "stream",
     "text": [
      "accuracy 0.952286282306\n",
      "confusion matrix\n",
      "[[443   8]\n",
      " [ 16  36]]\n",
      "(row=expected, col=predicted)\n"
     ]
    }
   ],
   "source": [
    "print 'accuracy', accuracy_score(emails_train['label'], knn_trained_predictions)\n",
    "print 'confusion matrix\\n', confusion_matrix(emails_train['label'], knn_trained_predictions)\n",
    "print '(row=expected, col=predicted)'"
   ]
  },
  {
   "cell_type": "code",
   "execution_count": 86,
   "metadata": {},
   "outputs": [
    {
     "data": {
      "text/plain": [
       "<matplotlib.text.Text at 0x117fa9650>"
      ]
     },
     "execution_count": 86,
     "metadata": {},
     "output_type": "execute_result"
    },
    {
     "data": {
      "image/png": "[encoded data removed]",
      "text/plain": [
       "<matplotlib.figure.Figure at 0x1178578d0>"
      ]
     },
     "metadata": {},
     "output_type": "display_data"
    }
   ],
   "source": [
    "plt.matshow(confusion_matrix(emails_train['label'], knn_trained_predictions), cmap=plt.cm.binary, interpolation='nearest')\n",
    "plt.title('confusion matrix')\n",
    "plt.colorbar()\n",
    "plt.ylabel('expected label')\n",
    "plt.xlabel('predicted label')"
   ]
  },
  {
   "cell_type": "code",
   "execution_count": 87,
   "metadata": {},
   "outputs": [
    {
     "name": "stdout",
     "output_type": "stream",
     "text": [
      "             precision    recall  f1-score   support\n",
      "\n",
      "   not_spam       0.97      0.98      0.97       451\n",
      "       spam       0.82      0.69      0.75        52\n",
      "\n",
      "avg / total       0.95      0.95      0.95       503\n",
      "\n"
     ]
    }
   ],
   "source": [
    "print classification_report(emails_train['label'], knn_trained_predictions)"
   ]
  },
  {
   "cell_type": "markdown",
   "metadata": {},
   "source": [
    "### Test model"
   ]
  },
  {
   "cell_type": "code",
   "execution_count": 88,
   "metadata": {
    "collapsed": true
   },
   "outputs": [],
   "source": [
    "knn_test_predictions = neigh.predict(messages_tfidf_te)"
   ]
  },
  {
   "cell_type": "code",
   "execution_count": 89,
   "metadata": {},
   "outputs": [
    {
     "name": "stdout",
     "output_type": "stream",
     "text": [
      "accuracy 0.929133858268\n",
      "confusion matrix\n",
      "[[222   4]\n",
      " [ 14  14]]\n",
      "(row=expected, col=predicted)\n"
     ]
    }
   ],
   "source": [
    "print 'accuracy', accuracy_score(emails_test['label'], knn_test_predictions)\n",
    "print 'confusion matrix\\n', confusion_matrix(emails_test['label'], knn_test_predictions)\n",
    "print '(row=expected, col=predicted)'"
   ]
  },
  {
   "cell_type": "code",
   "execution_count": 90,
   "metadata": {},
   "outputs": [
    {
     "data": {
      "text/plain": [
       "<matplotlib.text.Text at 0x1186ca990>"
      ]
     },
     "execution_count": 90,
     "metadata": {},
     "output_type": "execute_result"
    },
    {
     "data": {
      "image/png": "[encoded data removed]",
      "text/plain": [
       "<matplotlib.figure.Figure at 0x109d31250>"
      ]
     },
     "metadata": {},
     "output_type": "display_data"
    }
   ],
   "source": [
    "plt.matshow(confusion_matrix(emails_test['label'], knn_test_predictions), cmap=plt.cm.binary, interpolation='nearest')\n",
    "plt.title('confusion matrix')\n",
    "plt.colorbar()\n",
    "plt.ylabel('expected label')\n",
    "plt.xlabel('predicted label')"
   ]
  },
  {
   "cell_type": "code",
   "execution_count": 91,
   "metadata": {},
   "outputs": [
    {
     "name": "stdout",
     "output_type": "stream",
     "text": [
      "             precision    recall  f1-score   support\n",
      "\n",
      "   not_spam       0.94      0.98      0.96       226\n",
      "       spam       0.78      0.50      0.61        28\n",
      "\n",
      "avg / total       0.92      0.93      0.92       254\n",
      "\n"
     ]
    }
   ],
   "source": [
    "print classification_report(emails_test['label'], knn_test_predictions)"
   ]
  },
  {
   "cell_type": "markdown",
   "metadata": {},
   "source": [
    "## Compare AUCs"
   ]
  },
  {
   "cell_type": "code",
   "execution_count": 93,
   "metadata": {
    "collapsed": true
   },
   "outputs": [],
   "source": [
    "from sklearn.metrics import roc_curve, auc, roc_auc_score"
   ]
  },
  {
   "cell_type": "code",
   "execution_count": 94,
   "metadata": {},
   "outputs": [
    {
     "name": "stdout",
     "output_type": "stream",
     "text": [
      "0.758506737165\n"
     ]
    },
    {
     "name": "stderr",
     "output_type": "stream",
     "text": [
      "/Users/namratakolla/anaconda/envs/DAND/lib/python2.7/site-packages/ipykernel/__main__.py:3: SettingWithCopyWarning: \n",
      "A value is trying to be set on a copy of a slice from a DataFrame\n",
      "\n",
      "See the caveats in the documentation: http://pandas.pydata.org/pandas-docs/stable/indexing.html#indexing-view-versus-copy\n",
      "  app.launch_new_instance()\n",
      "/Users/namratakolla/anaconda/envs/DAND/lib/python2.7/site-packages/ipykernel/__main__.py:4: SettingWithCopyWarning: \n",
      "A value is trying to be set on a copy of a slice from a DataFrame\n",
      "\n",
      "See the caveats in the documentation: http://pandas.pydata.org/pandas-docs/stable/indexing.html#indexing-view-versus-copy\n"
     ]
    }
   ],
   "source": [
    "# Naive Bayes - Training Data\n",
    "\n",
    "emails_train['label'][emails_train['label']=='spam'] = 1\n",
    "emails_train['label'][emails_train['label']=='not_spam'] = 0\n",
    "trained_predictions[trained_predictions=='spam'] = 1\n",
    "trained_predictions[trained_predictions=='not_spam'] = 0\n",
    "trained_predictions = map(int, trained_predictions)\n",
    "\n",
    "false_positive_rate, true_positive_rate, thresholds = roc_curve(emails_train['label'], trained_predictions)\n",
    "print auc(false_positive_rate, true_positive_rate)"
   ]
  },
  {
   "cell_type": "code",
   "execution_count": 95,
   "metadata": {},
   "outputs": [
    {
     "name": "stdout",
     "output_type": "stream",
     "text": [
      "0.607142857143\n"
     ]
    },
    {
     "name": "stderr",
     "output_type": "stream",
     "text": [
      "/Users/namratakolla/anaconda/envs/DAND/lib/python2.7/site-packages/ipykernel/__main__.py:3: SettingWithCopyWarning: \n",
      "A value is trying to be set on a copy of a slice from a DataFrame\n",
      "\n",
      "See the caveats in the documentation: http://pandas.pydata.org/pandas-docs/stable/indexing.html#indexing-view-versus-copy\n",
      "  app.launch_new_instance()\n",
      "/Users/namratakolla/anaconda/envs/DAND/lib/python2.7/site-packages/ipykernel/__main__.py:4: SettingWithCopyWarning: \n",
      "A value is trying to be set on a copy of a slice from a DataFrame\n",
      "\n",
      "See the caveats in the documentation: http://pandas.pydata.org/pandas-docs/stable/indexing.html#indexing-view-versus-copy\n"
     ]
    }
   ],
   "source": [
    "# Naive Bayes - Test Data\n",
    "\n",
    "emails_test['label'][emails_test['label']=='spam'] = 1\n",
    "emails_test['label'][emails_test['label']=='not_spam'] = 0\n",
    "test_predictions[test_predictions=='spam'] = 1\n",
    "test_predictions[test_predictions=='not_spam'] = 0\n",
    "test_predictions = map(int, test_predictions)\n",
    "\n",
    "false_positive_rate, true_positive_rate, thresholds = roc_curve(emails_test['label'], test_predictions)\n",
    "print auc(false_positive_rate, true_positive_rate)"
   ]
  },
  {
   "cell_type": "code",
   "execution_count": 105,
   "metadata": {},
   "outputs": [
    {
     "name": "stdout",
     "output_type": "stream",
     "text": [
      "0.837284666553\n"
     ]
    }
   ],
   "source": [
    "# kNN - Training Data\n",
    "\n",
    "knn_trained_predictions[knn_trained_predictions=='spam'] = 1\n",
    "knn_trained_predictions[knn_trained_predictions=='not_spam'] = 0\n",
    "knn_trained_predictions = map(int, knn_trained_predictions)\n",
    "\n",
    "false_positive_rate, true_positive_rate, thresholds = roc_curve(emails_train['label'], knn_trained_predictions)\n",
    "print auc(false_positive_rate, true_positive_rate)"
   ]
  },
  {
   "cell_type": "code",
   "execution_count": 106,
   "metadata": {},
   "outputs": [
    {
     "name": "stdout",
     "output_type": "stream",
     "text": [
      "0.741150442478\n"
     ]
    }
   ],
   "source": [
    "# kNN - Test Data\n",
    "\n",
    "knn_test_predictions[knn_test_predictions=='spam'] = 1\n",
    "knn_test_predictions[knn_test_predictions=='not_spam'] = 0\n",
    "knn_test_predictions = map(int, knn_test_predictions)\n",
    "\n",
    "false_positive_rate, true_positive_rate, thresholds = roc_curve(emails_test['label'], knn_test_predictions)\n",
    "print auc(false_positive_rate, true_positive_rate)"
   ]
  }
 ],
 "metadata": {
  "kernelspec": {
   "display_name": "Python [conda env:DAND]",
   "language": "python",
   "name": "conda-env-DAND-py"
  },
  "language_info": {
   "codemirror_mode": {
    "name": "ipython",
    "version": 2
   },
   "file_extension": ".py",
   "mimetype": "text/x-python",
   "name": "python",
   "nbconvert_exporter": "python",
   "pygments_lexer": "ipython2",
   "version": "2.7.12"
  }
 },
 "nbformat": 4,
 "nbformat_minor": 2
}
